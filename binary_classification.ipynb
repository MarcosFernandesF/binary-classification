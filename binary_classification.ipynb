{
 "cells": [
  {
   "cell_type": "markdown",
   "id": "3a38e2a6",
   "metadata": {},
   "source": [
    "# Problema 23 - Application Incident Prediction"
   ]
  },
  {
   "cell_type": "markdown",
   "id": "c84dce8d",
   "metadata": {},
   "source": [
    "## Pré-processamento"
   ]
  },
  {
   "cell_type": "markdown",
   "id": "e514ee61",
   "metadata": {},
   "source": [
    "### Carregando os dados e realizando limpeza inicial. ###"
   ]
  },
  {
   "cell_type": "code",
   "execution_count": 21,
   "id": "38732882",
   "metadata": {},
   "outputs": [
    {
     "name": "stdout",
     "output_type": "stream",
     "text": [
      "Dataset carregado. Dimensões: (54745, 8)\n"
     ]
    },
    {
     "data": {
      "text/html": [
       "<div>\n",
       "<style scoped>\n",
       "    .dataframe tbody tr th:only-of-type {\n",
       "        vertical-align: middle;\n",
       "    }\n",
       "\n",
       "    .dataframe tbody tr th {\n",
       "        vertical-align: top;\n",
       "    }\n",
       "\n",
       "    .dataframe thead th {\n",
       "        text-align: right;\n",
       "    }\n",
       "</style>\n",
       "<table border=\"1\" class=\"dataframe\">\n",
       "  <thead>\n",
       "    <tr style=\"text-align: right;\">\n",
       "      <th></th>\n",
       "      <th>app_name</th>\n",
       "      <th>response_time</th>\n",
       "      <th>error_rate</th>\n",
       "      <th>cpu_usage</th>\n",
       "      <th>memory_usage</th>\n",
       "      <th>disk_space</th>\n",
       "      <th>active_users</th>\n",
       "      <th>downtime</th>\n",
       "    </tr>\n",
       "  </thead>\n",
       "  <tbody>\n",
       "    <tr>\n",
       "      <th>0</th>\n",
       "      <td>NIP</td>\n",
       "      <td>22</td>\n",
       "      <td>61</td>\n",
       "      <td>32</td>\n",
       "      <td>42</td>\n",
       "      <td>52</td>\n",
       "      <td>12000</td>\n",
       "      <td>1</td>\n",
       "    </tr>\n",
       "    <tr>\n",
       "      <th>1</th>\n",
       "      <td>NIP</td>\n",
       "      <td>21</td>\n",
       "      <td>63</td>\n",
       "      <td>31</td>\n",
       "      <td>41</td>\n",
       "      <td>51</td>\n",
       "      <td>11000</td>\n",
       "      <td>0</td>\n",
       "    </tr>\n",
       "    <tr>\n",
       "      <th>2</th>\n",
       "      <td>NIP</td>\n",
       "      <td>20</td>\n",
       "      <td>98</td>\n",
       "      <td>30</td>\n",
       "      <td>40</td>\n",
       "      <td>50</td>\n",
       "      <td>10000</td>\n",
       "      <td>0</td>\n",
       "    </tr>\n",
       "    <tr>\n",
       "      <th>3</th>\n",
       "      <td>NIP</td>\n",
       "      <td>19</td>\n",
       "      <td>15</td>\n",
       "      <td>29</td>\n",
       "      <td>39</td>\n",
       "      <td>49</td>\n",
       "      <td>9000</td>\n",
       "      <td>0</td>\n",
       "    </tr>\n",
       "    <tr>\n",
       "      <th>4</th>\n",
       "      <td>NIP</td>\n",
       "      <td>18</td>\n",
       "      <td>67</td>\n",
       "      <td>28</td>\n",
       "      <td>38</td>\n",
       "      <td>48</td>\n",
       "      <td>8000</td>\n",
       "      <td>0</td>\n",
       "    </tr>\n",
       "  </tbody>\n",
       "</table>\n",
       "</div>"
      ],
      "text/plain": [
       "  app_name  response_time  error_rate  cpu_usage  memory_usage  disk_space  \\\n",
       "0      NIP             22          61         32            42          52   \n",
       "1      NIP             21          63         31            41          51   \n",
       "2      NIP             20          98         30            40          50   \n",
       "3      NIP             19          15         29            39          49   \n",
       "4      NIP             18          67         28            38          48   \n",
       "\n",
       "   active_users  downtime  \n",
       "0         12000         1  \n",
       "1         11000         0  \n",
       "2         10000         0  \n",
       "3          9000         0  \n",
       "4          8000         0  "
      ]
     },
     "execution_count": 21,
     "metadata": {},
     "output_type": "execute_result"
    }
   ],
   "source": [
    "# Importando bibliotecas necessárias\n",
    "import pandas as pd\n",
    "from sklearn.model_selection import train_test_split\n",
    "from sklearn.preprocessing import StandardScaler\n",
    "\n",
    "# Carregando o dataset\n",
    "df = pd.read_csv('app_incident_report.csv')\n",
    "\n",
    "# Removendo a coluna 'incident_duration' conforme especificado no enunciado\n",
    "df = df.drop('incident_duration', axis=1)\n",
    "\n",
    "print(\"Dataset carregado. Dimensões:\", df.shape)\n",
    "df.head()"
   ]
  },
  {
   "cell_type": "markdown",
   "id": "a6beb8ae",
   "metadata": {},
   "source": [
    "### Analisar se é necessário remover a coluna `app_name`\n",
    "\n",
    "Olhando os dados por cima notei que o app_name é sempre o mesmo, então nesse passo vamos verificar quantos valores únicos existem na coluna `app_name`. Se houver apenas um, a coluna é constante e não contribui com informação para o modelo, podendo ser removida com segurança."
   ]
  },
  {
   "cell_type": "code",
   "execution_count": 22,
   "id": "b6406aa1",
   "metadata": {},
   "outputs": [
    {
     "name": "stdout",
     "output_type": "stream",
     "text": [
      "Número de valores únicos em 'app_name': 1\n",
      "\n",
      "Contagem de cada valor:\n",
      "app_name\n",
      "NIP    54745\n",
      "Name: count, dtype: int64\n",
      "\n",
      "Conclusão: A coluna 'app_name' possui um valor constante e será removida.\n"
     ]
    }
   ],
   "source": [
    "# Verificando os valores únicos em 'app_name'\n",
    "unique_apps = df['app_name'].nunique()\n",
    "app_counts = df['app_name'].value_counts()\n",
    "\n",
    "print(f\"Número de valores únicos em 'app_name': {unique_apps}\")\n",
    "print(\"\\nContagem de cada valor:\")\n",
    "print(app_counts)\n",
    "\n",
    "if unique_apps == 1:\n",
    "    print(\"\\nConclusão: A coluna 'app_name' possui um valor constante e será removida.\")"
   ]
  },
  {
   "cell_type": "markdown",
   "id": "84fadda8",
   "metadata": {},
   "source": [
    "### Separação de Características (X) e Alvo (y)\n",
    "\n",
    "Separando o dataset em Características (features) e Alvo (target):\n",
    "* **X**: Todas as colunas de características que usaremos para treinar o modelo.\n",
    "* **y**: A coluna alvo que queremos prever (`downtime`)."
   ]
  },
  {
   "cell_type": "code",
   "execution_count": 23,
   "id": "dac1fb9f",
   "metadata": {},
   "outputs": [
    {
     "name": "stdout",
     "output_type": "stream",
     "text": [
      "Shape de X (features): (54745, 6)\n",
      "Shape de y (target): (54745,)\n"
     ]
    }
   ],
   "source": [
    "# Separando as features (X) e o target (y)\n",
    "X = df.drop(['downtime', 'app_name'], axis=1)\n",
    "y = df['downtime']\n",
    "\n",
    "print(\"Shape de X (features):\", X.shape)\n",
    "print(\"Shape de y (target):\", y.shape)"
   ]
  },
  {
   "cell_type": "markdown",
   "id": "4d6ee83e",
   "metadata": {},
   "source": [
    "### Análise da Variável Alvo (`downtime`)\n",
    "\n",
    "Pela análise visual foi possível ver que a distribuição da variável `downtime` é completamente\n",
    "desbalanceada. Esse desbalanceamento pode ser preocupante na hora da divisão dos dados."
   ]
  },
  {
   "cell_type": "code",
   "execution_count": 24,
   "id": "eaa4506f",
   "metadata": {},
   "outputs": [
    {
     "name": "stdout",
     "output_type": "stream",
     "text": [
      "Contagem de cada classe:\n",
      "downtime\n",
      "0    54197\n",
      "1      548\n",
      "Name: count, dtype: int64\n",
      "\n",
      "Porcentagem de cada classe:\n",
      "downtime\n",
      "0    98.998995\n",
      "1     1.001005\n",
      "Name: proportion, dtype: float64\n"
     ]
    }
   ],
   "source": [
    "# Calculando a contagem e a proporção de cada classe\n",
    "downtime_counts = y.value_counts()\n",
    "downtime_percentage = y.value_counts(normalize=True) * 100\n",
    "\n",
    "print(\"Contagem de cada classe:\")\n",
    "print(downtime_counts)\n",
    "print(\"\\nPorcentagem de cada classe:\")\n",
    "print(downtime_percentage)"
   ]
  },
  {
   "cell_type": "markdown",
   "id": "da9cafc1",
   "metadata": {},
   "source": [
    "### Divisão em Dados de Treino e Teste\n",
    "\n",
    "Será separado 20% dos dados para teste.\n",
    "\n",
    "Como demonstrado na análise acima, a classe `downtime=1` é bem rara (correspondendo a aproximadamente **1%** dos dados). Por isso, é necessário usar o parâmetro `stratify=y`. Essa estratificação garante que a proporção de downtime seja mantida tanto para o conjunto de treino quanto para o de teste."
   ]
  },
  {
   "cell_type": "code",
   "execution_count": 25,
   "id": "7bacf231",
   "metadata": {},
   "outputs": [
    {
     "name": "stdout",
     "output_type": "stream",
     "text": [
      "--- Shapes após a divisão ---\n",
      "X_train: (43796, 6)\n",
      "X_test: (10949, 6)\n",
      "y_train: (43796,)\n",
      "y_test: (10949,)\n",
      "\n",
      "--- Verificação da estratificação ---\n",
      "Proporção de downtime no y_train: 0.010000913325417846\n",
      "Proporção de downtime no y_test: 0.010046579596310166\n"
     ]
    }
   ],
   "source": [
    "# Dividindo os dados com test_size=0.2 (20%) e estratificação\n",
    "X_train, X_test, y_train, y_test = train_test_split(\n",
    "    X, y, test_size=0.2, random_state=42, stratify=y\n",
    ")\n",
    "\n",
    "print(\"--- Shapes após a divisão ---\")\n",
    "print(\"X_train:\", X_train.shape)\n",
    "print(\"X_test:\", X_test.shape)\n",
    "print(\"y_train:\", y_train.shape)\n",
    "print(\"y_test:\", y_test.shape)\n",
    "\n",
    "print(\"\\n--- Verificação da estratificação ---\")\n",
    "print(\"Proporção de downtime no y_train:\", y_train.value_counts(normalize=True).values[1])\n",
    "print(\"Proporção de downtime no y_test:\", y_test.value_counts(normalize=True).values[1])"
   ]
  },
  {
   "cell_type": "markdown",
   "id": "f1b67f96",
   "metadata": {},
   "source": [
    "### Escalonamento das Características\n",
    "\n",
    "As colunas numéricas têm escalas muito diferentes. Por exemplo, active_users vai de 0 a 12.000, enquanto cpu_usage vai de 20 a 32.\n",
    "Portanto, será utilizado o `StandardScaler` para padronizar os dados (média 0 e desvio padrão 1).\n",
    "O `StandardScaler` é \"treinado\" (`fit`) apenas com os dados de treino para evitar vazamento de informação dos dados de teste. Depois, ele é usado para transformar (`transform`) ambos os conjuntos."
   ]
  },
  {
   "cell_type": "code",
   "execution_count": 26,
   "id": "09e65ad4",
   "metadata": {},
   "outputs": [
    {
     "name": "stdout",
     "output_type": "stream",
     "text": [
      "Amostra dos dados de treino após o escalonamento:\n"
     ]
    },
    {
     "data": {
      "text/html": [
       "<div>\n",
       "<style scoped>\n",
       "    .dataframe tbody tr th:only-of-type {\n",
       "        vertical-align: middle;\n",
       "    }\n",
       "\n",
       "    .dataframe tbody tr th {\n",
       "        vertical-align: top;\n",
       "    }\n",
       "\n",
       "    .dataframe thead th {\n",
       "        text-align: right;\n",
       "    }\n",
       "</style>\n",
       "<table border=\"1\" class=\"dataframe\">\n",
       "  <thead>\n",
       "    <tr style=\"text-align: right;\">\n",
       "      <th></th>\n",
       "      <th>response_time</th>\n",
       "      <th>error_rate</th>\n",
       "      <th>cpu_usage</th>\n",
       "      <th>memory_usage</th>\n",
       "      <th>disk_space</th>\n",
       "      <th>active_users</th>\n",
       "    </tr>\n",
       "  </thead>\n",
       "  <tbody>\n",
       "    <tr>\n",
       "      <th>0</th>\n",
       "      <td>0.574671</td>\n",
       "      <td>-0.578807</td>\n",
       "      <td>0.574671</td>\n",
       "      <td>0.574671</td>\n",
       "      <td>0.574671</td>\n",
       "      <td>0.574671</td>\n",
       "    </tr>\n",
       "    <tr>\n",
       "      <th>1</th>\n",
       "      <td>1.147714</td>\n",
       "      <td>0.596261</td>\n",
       "      <td>1.147714</td>\n",
       "      <td>1.147714</td>\n",
       "      <td>1.147714</td>\n",
       "      <td>1.147714</td>\n",
       "    </tr>\n",
       "    <tr>\n",
       "      <th>2</th>\n",
       "      <td>-1.717498</td>\n",
       "      <td>-1.131780</td>\n",
       "      <td>-1.717498</td>\n",
       "      <td>-1.717498</td>\n",
       "      <td>-1.717498</td>\n",
       "      <td>-1.717498</td>\n",
       "    </tr>\n",
       "    <tr>\n",
       "      <th>3</th>\n",
       "      <td>0.001629</td>\n",
       "      <td>-0.820733</td>\n",
       "      <td>0.001629</td>\n",
       "      <td>0.001629</td>\n",
       "      <td>0.001629</td>\n",
       "      <td>0.001629</td>\n",
       "    </tr>\n",
       "    <tr>\n",
       "      <th>4</th>\n",
       "      <td>0.001629</td>\n",
       "      <td>-1.028098</td>\n",
       "      <td>0.001629</td>\n",
       "      <td>0.001629</td>\n",
       "      <td>0.001629</td>\n",
       "      <td>0.001629</td>\n",
       "    </tr>\n",
       "  </tbody>\n",
       "</table>\n",
       "</div>"
      ],
      "text/plain": [
       "   response_time  error_rate  cpu_usage  memory_usage  disk_space  \\\n",
       "0       0.574671   -0.578807   0.574671      0.574671    0.574671   \n",
       "1       1.147714    0.596261   1.147714      1.147714    1.147714   \n",
       "2      -1.717498   -1.131780  -1.717498     -1.717498   -1.717498   \n",
       "3       0.001629   -0.820733   0.001629      0.001629    0.001629   \n",
       "4       0.001629   -1.028098   0.001629      0.001629    0.001629   \n",
       "\n",
       "   active_users  \n",
       "0      0.574671  \n",
       "1      1.147714  \n",
       "2     -1.717498  \n",
       "3      0.001629  \n",
       "4      0.001629  "
      ]
     },
     "execution_count": 26,
     "metadata": {},
     "output_type": "execute_result"
    }
   ],
   "source": [
    "# Criando o objeto scaler\n",
    "scaler = StandardScaler()\n",
    "\n",
    "# Treinando o scaler com os dados de treino e transformando-os\n",
    "X_train_scaled = scaler.fit_transform(X_train)\n",
    "\n",
    "# Aplicando a mesma transformação aos dados de teste\n",
    "X_test_scaled = scaler.transform(X_test)\n",
    "\n",
    "# Convertendo de volta para DataFrame para visualização (opcional)\n",
    "X_train_scaled_df = pd.DataFrame(X_train_scaled, columns=X_train.columns)\n",
    "\n",
    "print(\"Amostra dos dados de treino após o escalonamento:\")\n",
    "X_train_scaled_df.head()"
   ]
  },
  {
   "cell_type": "markdown",
   "id": "f4f04746",
   "metadata": {},
   "source": [
    "### Conclusão do Pré-processamento\n",
    "\n",
    "Os seguintes conjuntos de dados estão preparados:\n",
    "\n",
    "* `X_train_scaled`, `y_train`: Para treinar os modelos.\n",
    "* `X_test_scaled`, `y_test`: Para testar os modelos e gerar os resultados finais."
   ]
  },
  {
   "cell_type": "markdown",
   "id": "534c3c1f",
   "metadata": {},
   "source": [
    "## Naive Bayes\n",
    "\n",
    "Para o Bayes Ingênuo será utilizado o `GaussianNB` do scikit-learn."
   ]
  },
  {
   "cell_type": "code",
   "execution_count": 27,
   "id": "02b99747",
   "metadata": {},
   "outputs": [
    {
     "name": "stdout",
     "output_type": "stream",
     "text": [
      "Modelo Naive Bayes treinado com sucesso!\n",
      "Foram feitas 10949 predições no conjunto de teste.\n"
     ]
    }
   ],
   "source": [
    "from sklearn.naive_bayes import GaussianNB\n",
    "\n",
    "nb_model = GaussianNB()\n",
    "\n",
    "# Treinando o modelo com os dados de treino (já escalonados)\n",
    "nb_model.fit(X_train_scaled, y_train)\n",
    "\n",
    "# Fazendo predições no conjunto de teste\n",
    "y_pred_nb = nb_model.predict(X_test_scaled)\n",
    "\n",
    "print(\"Modelo Naive Bayes treinado com sucesso!\")\n",
    "print(f\"Foram feitas {len(y_pred_nb)} predições no conjunto de teste.\")"
   ]
  },
  {
   "cell_type": "markdown",
   "id": "08021e0d",
   "metadata": {},
   "source": [
    "### Avaliação do Modelo Naive Bayes\n",
    "\n",
    "Para avaliar o desempenho, será gerado a matriz de confusão e a medida F1."
   ]
  },
  {
   "cell_type": "code",
   "execution_count": 28,
   "id": "9d4bc6d6",
   "metadata": {},
   "outputs": [
    {
     "name": "stdout",
     "output_type": "stream",
     "text": [
      "--- Resultados do Modelo Naive Bayes ---\n",
      "\n",
      "Matriz de Confusão:\n",
      "[[10839     0]\n",
      " [  110     0]]\n",
      "\n",
      "Medida F1 (F1 Score): 0.0000\n"
     ]
    }
   ],
   "source": [
    "# Importando as métricas de avaliação\n",
    "from sklearn.metrics import confusion_matrix, f1_score\n",
    "\n",
    "# Calculando a Matriz de Confusão\n",
    "cm_nb = confusion_matrix(y_test, y_pred_nb)\n",
    "\n",
    "# Calculando a Medida F1\n",
    "f1_nb = f1_score(y_test, y_pred_nb)\n",
    "\n",
    "print(\"--- Resultados do Modelo Naive Bayes ---\")\n",
    "print(\"\\nMatriz de Confusão:\")\n",
    "print(cm_nb)\n",
    "print(f\"\\nMedida F1 (F1 Score): {f1_nb:.4f}\")"
   ]
  },
  {
   "cell_type": "markdown",
   "id": "114b6e38",
   "metadata": {},
   "source": [
    "### Visualização da Matriz de Confusão\n",
    "\n",
    "Para facilitlar a compreensão abaixo está o plot do gráfico da matriz de confusão com Plotly."
   ]
  },
  {
   "cell_type": "code",
   "execution_count": 29,
   "id": "cc855af8",
   "metadata": {},
   "outputs": [
    {
     "data": {
      "application/vnd.plotly.v1+json": {
       "config": {
        "plotlyServerURL": "https://plot.ly"
       },
       "data": [
        {
         "coloraxis": "coloraxis",
         "hovertemplate": "Valor Predito: %{x}<br>Valor Real: %{y}<br>Contagem: %{z}<extra></extra>",
         "name": "0",
         "textfont": {
          "size": 16
         },
         "texttemplate": "%{z}",
         "type": "heatmap",
         "x": [
          "Sem Downtime",
          "Com Downtime"
         ],
         "xaxis": "x",
         "y": [
          "Sem Downtime",
          "Com Downtime"
         ],
         "yaxis": "y",
         "z": {
          "bdata": "VyoAAG4AAAA=",
          "dtype": "i2",
          "shape": "2, 2"
         }
        }
       ],
       "layout": {
        "coloraxis": {
         "colorbar": {
          "title": {
           "text": "Contagem"
          }
         },
         "colorscale": [
          [
           0,
           "rgb(247,252,240)"
          ],
          [
           0.125,
           "rgb(224,243,219)"
          ],
          [
           0.25,
           "rgb(204,235,197)"
          ],
          [
           0.375,
           "rgb(168,221,181)"
          ],
          [
           0.5,
           "rgb(123,204,196)"
          ],
          [
           0.625,
           "rgb(78,179,211)"
          ],
          [
           0.75,
           "rgb(43,140,190)"
          ],
          [
           0.875,
           "rgb(8,104,172)"
          ],
          [
           1,
           "rgb(8,64,129)"
          ]
         ]
        },
        "font": {
         "color": "black",
         "family": "Arial, sans-serif",
         "size": 12
        },
        "height": 500,
        "margin": {
         "t": 60
        },
        "template": {
         "data": {
          "bar": [
           {
            "error_x": {
             "color": "#2a3f5f"
            },
            "error_y": {
             "color": "#2a3f5f"
            },
            "marker": {
             "line": {
              "color": "white",
              "width": 0.5
             },
             "pattern": {
              "fillmode": "overlay",
              "size": 10,
              "solidity": 0.2
             }
            },
            "type": "bar"
           }
          ],
          "barpolar": [
           {
            "marker": {
             "line": {
              "color": "white",
              "width": 0.5
             },
             "pattern": {
              "fillmode": "overlay",
              "size": 10,
              "solidity": 0.2
             }
            },
            "type": "barpolar"
           }
          ],
          "carpet": [
           {
            "aaxis": {
             "endlinecolor": "#2a3f5f",
             "gridcolor": "#C8D4E3",
             "linecolor": "#C8D4E3",
             "minorgridcolor": "#C8D4E3",
             "startlinecolor": "#2a3f5f"
            },
            "baxis": {
             "endlinecolor": "#2a3f5f",
             "gridcolor": "#C8D4E3",
             "linecolor": "#C8D4E3",
             "minorgridcolor": "#C8D4E3",
             "startlinecolor": "#2a3f5f"
            },
            "type": "carpet"
           }
          ],
          "choropleth": [
           {
            "colorbar": {
             "outlinewidth": 0,
             "ticks": ""
            },
            "type": "choropleth"
           }
          ],
          "contour": [
           {
            "colorbar": {
             "outlinewidth": 0,
             "ticks": ""
            },
            "colorscale": [
             [
              0,
              "#0d0887"
             ],
             [
              0.1111111111111111,
              "#46039f"
             ],
             [
              0.2222222222222222,
              "#7201a8"
             ],
             [
              0.3333333333333333,
              "#9c179e"
             ],
             [
              0.4444444444444444,
              "#bd3786"
             ],
             [
              0.5555555555555556,
              "#d8576b"
             ],
             [
              0.6666666666666666,
              "#ed7953"
             ],
             [
              0.7777777777777778,
              "#fb9f3a"
             ],
             [
              0.8888888888888888,
              "#fdca26"
             ],
             [
              1,
              "#f0f921"
             ]
            ],
            "type": "contour"
           }
          ],
          "contourcarpet": [
           {
            "colorbar": {
             "outlinewidth": 0,
             "ticks": ""
            },
            "type": "contourcarpet"
           }
          ],
          "heatmap": [
           {
            "colorbar": {
             "outlinewidth": 0,
             "ticks": ""
            },
            "colorscale": [
             [
              0,
              "#0d0887"
             ],
             [
              0.1111111111111111,
              "#46039f"
             ],
             [
              0.2222222222222222,
              "#7201a8"
             ],
             [
              0.3333333333333333,
              "#9c179e"
             ],
             [
              0.4444444444444444,
              "#bd3786"
             ],
             [
              0.5555555555555556,
              "#d8576b"
             ],
             [
              0.6666666666666666,
              "#ed7953"
             ],
             [
              0.7777777777777778,
              "#fb9f3a"
             ],
             [
              0.8888888888888888,
              "#fdca26"
             ],
             [
              1,
              "#f0f921"
             ]
            ],
            "type": "heatmap"
           }
          ],
          "histogram": [
           {
            "marker": {
             "pattern": {
              "fillmode": "overlay",
              "size": 10,
              "solidity": 0.2
             }
            },
            "type": "histogram"
           }
          ],
          "histogram2d": [
           {
            "colorbar": {
             "outlinewidth": 0,
             "ticks": ""
            },
            "colorscale": [
             [
              0,
              "#0d0887"
             ],
             [
              0.1111111111111111,
              "#46039f"
             ],
             [
              0.2222222222222222,
              "#7201a8"
             ],
             [
              0.3333333333333333,
              "#9c179e"
             ],
             [
              0.4444444444444444,
              "#bd3786"
             ],
             [
              0.5555555555555556,
              "#d8576b"
             ],
             [
              0.6666666666666666,
              "#ed7953"
             ],
             [
              0.7777777777777778,
              "#fb9f3a"
             ],
             [
              0.8888888888888888,
              "#fdca26"
             ],
             [
              1,
              "#f0f921"
             ]
            ],
            "type": "histogram2d"
           }
          ],
          "histogram2dcontour": [
           {
            "colorbar": {
             "outlinewidth": 0,
             "ticks": ""
            },
            "colorscale": [
             [
              0,
              "#0d0887"
             ],
             [
              0.1111111111111111,
              "#46039f"
             ],
             [
              0.2222222222222222,
              "#7201a8"
             ],
             [
              0.3333333333333333,
              "#9c179e"
             ],
             [
              0.4444444444444444,
              "#bd3786"
             ],
             [
              0.5555555555555556,
              "#d8576b"
             ],
             [
              0.6666666666666666,
              "#ed7953"
             ],
             [
              0.7777777777777778,
              "#fb9f3a"
             ],
             [
              0.8888888888888888,
              "#fdca26"
             ],
             [
              1,
              "#f0f921"
             ]
            ],
            "type": "histogram2dcontour"
           }
          ],
          "mesh3d": [
           {
            "colorbar": {
             "outlinewidth": 0,
             "ticks": ""
            },
            "type": "mesh3d"
           }
          ],
          "parcoords": [
           {
            "line": {
             "colorbar": {
              "outlinewidth": 0,
              "ticks": ""
             }
            },
            "type": "parcoords"
           }
          ],
          "pie": [
           {
            "automargin": true,
            "type": "pie"
           }
          ],
          "scatter": [
           {
            "fillpattern": {
             "fillmode": "overlay",
             "size": 10,
             "solidity": 0.2
            },
            "type": "scatter"
           }
          ],
          "scatter3d": [
           {
            "line": {
             "colorbar": {
              "outlinewidth": 0,
              "ticks": ""
             }
            },
            "marker": {
             "colorbar": {
              "outlinewidth": 0,
              "ticks": ""
             }
            },
            "type": "scatter3d"
           }
          ],
          "scattercarpet": [
           {
            "marker": {
             "colorbar": {
              "outlinewidth": 0,
              "ticks": ""
             }
            },
            "type": "scattercarpet"
           }
          ],
          "scattergeo": [
           {
            "marker": {
             "colorbar": {
              "outlinewidth": 0,
              "ticks": ""
             }
            },
            "type": "scattergeo"
           }
          ],
          "scattergl": [
           {
            "marker": {
             "colorbar": {
              "outlinewidth": 0,
              "ticks": ""
             }
            },
            "type": "scattergl"
           }
          ],
          "scattermap": [
           {
            "marker": {
             "colorbar": {
              "outlinewidth": 0,
              "ticks": ""
             }
            },
            "type": "scattermap"
           }
          ],
          "scattermapbox": [
           {
            "marker": {
             "colorbar": {
              "outlinewidth": 0,
              "ticks": ""
             }
            },
            "type": "scattermapbox"
           }
          ],
          "scatterpolar": [
           {
            "marker": {
             "colorbar": {
              "outlinewidth": 0,
              "ticks": ""
             }
            },
            "type": "scatterpolar"
           }
          ],
          "scatterpolargl": [
           {
            "marker": {
             "colorbar": {
              "outlinewidth": 0,
              "ticks": ""
             }
            },
            "type": "scatterpolargl"
           }
          ],
          "scatterternary": [
           {
            "marker": {
             "colorbar": {
              "outlinewidth": 0,
              "ticks": ""
             }
            },
            "type": "scatterternary"
           }
          ],
          "surface": [
           {
            "colorbar": {
             "outlinewidth": 0,
             "ticks": ""
            },
            "colorscale": [
             [
              0,
              "#0d0887"
             ],
             [
              0.1111111111111111,
              "#46039f"
             ],
             [
              0.2222222222222222,
              "#7201a8"
             ],
             [
              0.3333333333333333,
              "#9c179e"
             ],
             [
              0.4444444444444444,
              "#bd3786"
             ],
             [
              0.5555555555555556,
              "#d8576b"
             ],
             [
              0.6666666666666666,
              "#ed7953"
             ],
             [
              0.7777777777777778,
              "#fb9f3a"
             ],
             [
              0.8888888888888888,
              "#fdca26"
             ],
             [
              1,
              "#f0f921"
             ]
            ],
            "type": "surface"
           }
          ],
          "table": [
           {
            "cells": {
             "fill": {
              "color": "#EBF0F8"
             },
             "line": {
              "color": "white"
             }
            },
            "header": {
             "fill": {
              "color": "#C8D4E3"
             },
             "line": {
              "color": "white"
             }
            },
            "type": "table"
           }
          ]
         },
         "layout": {
          "annotationdefaults": {
           "arrowcolor": "#2a3f5f",
           "arrowhead": 0,
           "arrowwidth": 1
          },
          "autotypenumbers": "strict",
          "coloraxis": {
           "colorbar": {
            "outlinewidth": 0,
            "ticks": ""
           }
          },
          "colorscale": {
           "diverging": [
            [
             0,
             "#8e0152"
            ],
            [
             0.1,
             "#c51b7d"
            ],
            [
             0.2,
             "#de77ae"
            ],
            [
             0.3,
             "#f1b6da"
            ],
            [
             0.4,
             "#fde0ef"
            ],
            [
             0.5,
             "#f7f7f7"
            ],
            [
             0.6,
             "#e6f5d0"
            ],
            [
             0.7,
             "#b8e186"
            ],
            [
             0.8,
             "#7fbc41"
            ],
            [
             0.9,
             "#4d9221"
            ],
            [
             1,
             "#276419"
            ]
           ],
           "sequential": [
            [
             0,
             "#0d0887"
            ],
            [
             0.1111111111111111,
             "#46039f"
            ],
            [
             0.2222222222222222,
             "#7201a8"
            ],
            [
             0.3333333333333333,
             "#9c179e"
            ],
            [
             0.4444444444444444,
             "#bd3786"
            ],
            [
             0.5555555555555556,
             "#d8576b"
            ],
            [
             0.6666666666666666,
             "#ed7953"
            ],
            [
             0.7777777777777778,
             "#fb9f3a"
            ],
            [
             0.8888888888888888,
             "#fdca26"
            ],
            [
             1,
             "#f0f921"
            ]
           ],
           "sequentialminus": [
            [
             0,
             "#0d0887"
            ],
            [
             0.1111111111111111,
             "#46039f"
            ],
            [
             0.2222222222222222,
             "#7201a8"
            ],
            [
             0.3333333333333333,
             "#9c179e"
            ],
            [
             0.4444444444444444,
             "#bd3786"
            ],
            [
             0.5555555555555556,
             "#d8576b"
            ],
            [
             0.6666666666666666,
             "#ed7953"
            ],
            [
             0.7777777777777778,
             "#fb9f3a"
            ],
            [
             0.8888888888888888,
             "#fdca26"
            ],
            [
             1,
             "#f0f921"
            ]
           ]
          },
          "colorway": [
           "#636efa",
           "#EF553B",
           "#00cc96",
           "#ab63fa",
           "#FFA15A",
           "#19d3f3",
           "#FF6692",
           "#B6E880",
           "#FF97FF",
           "#FECB52"
          ],
          "font": {
           "color": "#2a3f5f"
          },
          "geo": {
           "bgcolor": "white",
           "lakecolor": "white",
           "landcolor": "white",
           "showlakes": true,
           "showland": true,
           "subunitcolor": "#C8D4E3"
          },
          "hoverlabel": {
           "align": "left"
          },
          "hovermode": "closest",
          "mapbox": {
           "style": "light"
          },
          "paper_bgcolor": "white",
          "plot_bgcolor": "white",
          "polar": {
           "angularaxis": {
            "gridcolor": "#EBF0F8",
            "linecolor": "#EBF0F8",
            "ticks": ""
           },
           "bgcolor": "white",
           "radialaxis": {
            "gridcolor": "#EBF0F8",
            "linecolor": "#EBF0F8",
            "ticks": ""
           }
          },
          "scene": {
           "xaxis": {
            "backgroundcolor": "white",
            "gridcolor": "#DFE8F3",
            "gridwidth": 2,
            "linecolor": "#EBF0F8",
            "showbackground": true,
            "ticks": "",
            "zerolinecolor": "#EBF0F8"
           },
           "yaxis": {
            "backgroundcolor": "white",
            "gridcolor": "#DFE8F3",
            "gridwidth": 2,
            "linecolor": "#EBF0F8",
            "showbackground": true,
            "ticks": "",
            "zerolinecolor": "#EBF0F8"
           },
           "zaxis": {
            "backgroundcolor": "white",
            "gridcolor": "#DFE8F3",
            "gridwidth": 2,
            "linecolor": "#EBF0F8",
            "showbackground": true,
            "ticks": "",
            "zerolinecolor": "#EBF0F8"
           }
          },
          "shapedefaults": {
           "line": {
            "color": "#2a3f5f"
           }
          },
          "ternary": {
           "aaxis": {
            "gridcolor": "#DFE8F3",
            "linecolor": "#A2B1C6",
            "ticks": ""
           },
           "baxis": {
            "gridcolor": "#DFE8F3",
            "linecolor": "#A2B1C6",
            "ticks": ""
           },
           "bgcolor": "white",
           "caxis": {
            "gridcolor": "#DFE8F3",
            "linecolor": "#A2B1C6",
            "ticks": ""
           }
          },
          "title": {
           "x": 0.05
          },
          "xaxis": {
           "automargin": true,
           "gridcolor": "#EBF0F8",
           "linecolor": "#EBF0F8",
           "ticks": "",
           "title": {
            "standoff": 15
           },
           "zerolinecolor": "#EBF0F8",
           "zerolinewidth": 2
          },
          "yaxis": {
           "automargin": true,
           "gridcolor": "#EBF0F8",
           "linecolor": "#EBF0F8",
           "ticks": "",
           "title": {
            "standoff": 15
           },
           "zerolinecolor": "#EBF0F8",
           "zerolinewidth": 2
          }
         }
        },
        "title": {
         "text": "<b>Matriz de Confusão - Naive Bayes</b>",
         "x": 0.5
        },
        "width": 550,
        "xaxis": {
         "anchor": "y",
         "constrain": "domain",
         "domain": [
          0,
          1
         ],
         "scaleanchor": "y",
         "title": {
          "text": "<b>Valor Predito</b>"
         }
        },
        "yaxis": {
         "anchor": "x",
         "autorange": "reversed",
         "constrain": "domain",
         "domain": [
          0,
          1
         ],
         "title": {
          "text": "<b>Valor Real</b>"
         }
        }
       }
      }
     },
     "metadata": {},
     "output_type": "display_data"
    }
   ],
   "source": [
    "import plotly.express as px\n",
    "\n",
    "labels = ['Sem Downtime', 'Com Downtime']\n",
    "\n",
    "fig_cm_nb = px.imshow(\n",
    "    cm_nb,\n",
    "    text_auto=True, \n",
    "    labels=dict(x=\"Valor Predito\", y=\"Valor Real\", color=\"Contagem\"),\n",
    "    x=labels,\n",
    "    y=labels,\n",
    "    color_continuous_scale='GnBu'\n",
    ")\n",
    "\n",
    "fig_cm_nb.update_layout(\n",
    "    title_text='<b>Matriz de Confusão - Naive Bayes</b>',\n",
    "    title_x=0.5,\n",
    "    width=550,\n",
    "    height=500,\n",
    "    template='plotly_white',\n",
    "    font=dict(\n",
    "        family=\"Arial, sans-serif\",\n",
    "        size=12,\n",
    "        color=\"black\"\n",
    "    ),\n",
    "    xaxis_title=\"<b>Valor Predito</b>\",\n",
    "    yaxis_title=\"<b>Valor Real</b>\"\n",
    ")\n",
    "\n",
    "fig_cm_nb.update_traces(textfont_size=16)\n",
    "\n",
    "fig_cm_nb.show()"
   ]
  },
  {
   "cell_type": "markdown",
   "id": "d389d30e",
   "metadata": {},
   "source": [
    "### Análise dos Resultados - Naive Bayes\n",
    "\n",
    "#### Matriz de Confusão\n",
    "\n",
    "* **Verdadeiros Negativos (10839):** O modelo é excelente em prever \"Sem Downtime\" quando o sistema está normal.\n",
    "* **Falsos Positivos (0):** O modelo foi extremamente conservador e nunca gerou um \"alarme falso\", ou seja, nunca previu um downtime que não aconteceu.\n",
    "* **Falsos Negativos (110):** Este é o grande problema. Em todos os 110 casos em que um downtime realmente ocorreu, o modelo falhou e previu \"Sem Downtime\".\n",
    "* **Verdadeiros Positivos (0):** Consequentemente, o modelo não foi capaz de identificar corretamente um único incidente de downtime.\n",
    "\n",
    "#### Medida F1?\n",
    "\n",
    "O fato da medida F1 ser 0.0 é consequência de um modelo simples treinado com dados altamente desbalanceados, onde\n",
    "o \"Sem Downtime\" representa 99% dos casos. Então o modelo aprendeu que a maneira mais fácil de obter um alto acerto era basicamente\n",
    "prever a classe que mais aparecer."
   ]
  },
  {
   "cell_type": "markdown",
   "id": "437db97d",
   "metadata": {},
   "source": [
    "## Perceptron Multicamadas (MLP)\n",
    "\n",
    "Será utilizado a implementação `MLPClassifier` do scikit-learn.\n",
    "\n",
    "Conforme solicitado no enunciado:\n",
    "\n",
    "* **Arquitetura da Rede:**\n",
    "    * `hidden_layer_sizes=(100,)`: Esta é a arquitetura da rede. Será usado uma única camada oculta contendo 100 neurônios.\n",
    "\n",
    "* **Parâmetros de Treinamento:**\n",
    "    * `activation='relu'`: A função de ativação será a Unidade Linear Retificada (ReLU), que é a mais comum e eficiente atualmente.\n",
    "    * `solver='adam'`: O otimizador utilizado para minimizar a função de erro. 'Adam' é eficiente e se adapta bem à maioria dos problemas.\n",
    "    * `max_iter=500`: O número máximo de épocas de treinamento.\n",
    "    * `early_stopping=True`: Uma técnica para evitar sobreajuste. O treinamento para se o desempenho em um conjunto de validação (separado automaticamente dos dados de treino) não melhorar por um número definido de épocas.\n",
    "    * `n_iter_no_change=10`: O número de épocas a esperar sem melhora antes de parar o treinamento.\n",
    "    * `random_state=42`: Garante que os resultados sejam reprodutíveis."
   ]
  },
  {
   "cell_type": "code",
   "execution_count": null,
   "id": "9a736da1",
   "metadata": {},
   "outputs": [
    {
     "ename": "TypeError",
     "evalue": "MLPClassifier.__init__() got an unexpected keyword argument 'class_weight'",
     "output_type": "error",
     "traceback": [
      "\u001b[31m---------------------------------------------------------------------------\u001b[39m",
      "\u001b[31mTypeError\u001b[39m                                 Traceback (most recent call last)",
      "\u001b[36mCell\u001b[39m\u001b[36m \u001b[39m\u001b[32mIn[30]\u001b[39m\u001b[32m, line 3\u001b[39m\n\u001b[32m      1\u001b[39m \u001b[38;5;28;01mfrom\u001b[39;00m\u001b[38;5;250m \u001b[39m\u001b[34;01msklearn\u001b[39;00m\u001b[34;01m.\u001b[39;00m\u001b[34;01mneural_network\u001b[39;00m\u001b[38;5;250m \u001b[39m\u001b[38;5;28;01mimport\u001b[39;00m MLPClassifier\n\u001b[32m----> \u001b[39m\u001b[32m3\u001b[39m mlp_model = \u001b[43mMLPClassifier\u001b[49m\u001b[43m(\u001b[49m\n\u001b[32m      4\u001b[39m \u001b[43m    \u001b[49m\u001b[43mhidden_layer_sizes\u001b[49m\u001b[43m=\u001b[49m\u001b[43m(\u001b[49m\u001b[32;43m100\u001b[39;49m\u001b[43m,\u001b[49m\u001b[43m)\u001b[49m\u001b[43m,\u001b[49m\n\u001b[32m      5\u001b[39m \u001b[43m    \u001b[49m\u001b[43mactivation\u001b[49m\u001b[43m=\u001b[49m\u001b[33;43m'\u001b[39;49m\u001b[33;43mrelu\u001b[39;49m\u001b[33;43m'\u001b[39;49m\u001b[43m,\u001b[49m\n\u001b[32m      6\u001b[39m \u001b[43m    \u001b[49m\u001b[43msolver\u001b[49m\u001b[43m=\u001b[49m\u001b[33;43m'\u001b[39;49m\u001b[33;43madam\u001b[39;49m\u001b[33;43m'\u001b[39;49m\u001b[43m,\u001b[49m\n\u001b[32m      7\u001b[39m \u001b[43m    \u001b[49m\u001b[43mmax_iter\u001b[49m\u001b[43m=\u001b[49m\u001b[32;43m500\u001b[39;49m\u001b[43m,\u001b[49m\n\u001b[32m      8\u001b[39m \u001b[43m    \u001b[49m\u001b[43mclass_weight\u001b[49m\u001b[43m=\u001b[49m\u001b[33;43m'\u001b[39;49m\u001b[33;43mbalanced\u001b[39;49m\u001b[33;43m'\u001b[39;49m\u001b[43m,\u001b[49m\n\u001b[32m      9\u001b[39m \u001b[43m    \u001b[49m\u001b[43mearly_stopping\u001b[49m\u001b[43m=\u001b[49m\u001b[38;5;28;43;01mTrue\u001b[39;49;00m\u001b[43m,\u001b[49m\n\u001b[32m     10\u001b[39m \u001b[43m    \u001b[49m\u001b[43mn_iter_no_change\u001b[49m\u001b[43m=\u001b[49m\u001b[32;43m10\u001b[39;49m\u001b[43m,\u001b[49m\n\u001b[32m     11\u001b[39m \u001b[43m    \u001b[49m\u001b[43mrandom_state\u001b[49m\u001b[43m=\u001b[49m\u001b[32;43m42\u001b[39;49m\n\u001b[32m     12\u001b[39m \u001b[43m)\u001b[49m\n\u001b[32m     14\u001b[39m \u001b[38;5;66;03m#Treinando o modelo com os dados de treino escalonados\u001b[39;00m\n\u001b[32m     15\u001b[39m mlp_model.fit(X_train_scaled, y_train)\n",
      "\u001b[31mTypeError\u001b[39m: MLPClassifier.__init__() got an unexpected keyword argument 'class_weight'"
     ]
    }
   ],
   "source": [
    "from sklearn.neural_network import MLPClassifier\n",
    "\n",
    "mlp_model = MLPClassifier(\n",
    "    hidden_layer_sizes=(100,),\n",
    "    activation='relu',\n",
    "    solver='adam',\n",
    "    max_iter=500,\n",
    "    early_stopping=True,\n",
    "    n_iter_no_change=10,\n",
    "    random_state=42\n",
    ")\n",
    "\n",
    "#Treinando o modelo com os dados de treino escalonados\n",
    "mlp_model.fit(X_train_scaled, y_train)\n",
    "\n",
    "#Fazendo predições no conjunto de teste\n",
    "y_pred_mlp = mlp_model.predict(X_test_scaled)\n",
    "\n",
    "print(\"Modelo MLP treinado com sucesso!\")"
   ]
  },
  {
   "cell_type": "markdown",
   "id": "94799777",
   "metadata": {},
   "source": [
    "### Avaliação do Modelo MLP\n",
    "\n",
    "Para avaliar o resultado será gerado a matriz de confusão e a Medida F1."
   ]
  },
  {
   "cell_type": "code",
   "execution_count": null,
   "id": "057ed331",
   "metadata": {},
   "outputs": [
    {
     "name": "stdout",
     "output_type": "stream",
     "text": [
      "--- Resultados do Modelo MLP ---\n",
      "\n",
      "Matriz de Confusão:\n",
      "[[10839     0]\n",
      " [  110     0]]\n",
      "\n",
      "Medida F1 (F1 Score): 0.0000\n"
     ]
    }
   ],
   "source": [
    "cm_mlp = confusion_matrix(y_test, y_pred_mlp)\n",
    "\n",
    "f1_mlp = f1_score(y_test, y_pred_mlp)\n",
    "\n",
    "print(\"--- Resultados do Modelo MLP ---\")\n",
    "print(\"\\nMatriz de Confusão:\")\n",
    "print(cm_mlp)\n",
    "print(f\"\\nMedida F1 (F1 Score): {f1_mlp:.4f}\")"
   ]
  },
  {
   "cell_type": "markdown",
   "id": "e3b62319",
   "metadata": {},
   "source": [
    "### Visualização da Matriz de Confusão\n",
    "\n",
    "Para facilitlar a compreensão abaixo está o plot do gráfico da matriz de confusão com Plotly."
   ]
  },
  {
   "cell_type": "code",
   "execution_count": null,
   "id": "1952a266",
   "metadata": {},
   "outputs": [
    {
     "data": {
      "application/vnd.plotly.v1+json": {
       "config": {
        "plotlyServerURL": "https://plot.ly"
       },
       "data": [
        {
         "coloraxis": "coloraxis",
         "hovertemplate": "Valor Predito: %{x}<br>Valor Real: %{y}<br>Contagem: %{z}<extra></extra>",
         "name": "0",
         "textfont": {
          "size": 16
         },
         "texttemplate": "%{z}",
         "type": "heatmap",
         "x": [
          "Sem Downtime",
          "Com Downtime"
         ],
         "xaxis": "x",
         "y": [
          "Sem Downtime",
          "Com Downtime"
         ],
         "yaxis": "y",
         "z": {
          "bdata": "VyoAAG4AAAA=",
          "dtype": "i2",
          "shape": "2, 2"
         }
        }
       ],
       "layout": {
        "coloraxis": {
         "colorbar": {
          "title": {
           "text": "Contagem"
          }
         },
         "colorscale": [
          [
           0,
           "rgb(247,252,245)"
          ],
          [
           0.125,
           "rgb(229,245,224)"
          ],
          [
           0.25,
           "rgb(199,233,192)"
          ],
          [
           0.375,
           "rgb(161,217,155)"
          ],
          [
           0.5,
           "rgb(116,196,118)"
          ],
          [
           0.625,
           "rgb(65,171,93)"
          ],
          [
           0.75,
           "rgb(35,139,69)"
          ],
          [
           0.875,
           "rgb(0,109,44)"
          ],
          [
           1,
           "rgb(0,68,27)"
          ]
         ]
        },
        "font": {
         "color": "black",
         "family": "Arial, sans-serif",
         "size": 12
        },
        "height": 500,
        "margin": {
         "t": 60
        },
        "template": {
         "data": {
          "bar": [
           {
            "error_x": {
             "color": "#2a3f5f"
            },
            "error_y": {
             "color": "#2a3f5f"
            },
            "marker": {
             "line": {
              "color": "white",
              "width": 0.5
             },
             "pattern": {
              "fillmode": "overlay",
              "size": 10,
              "solidity": 0.2
             }
            },
            "type": "bar"
           }
          ],
          "barpolar": [
           {
            "marker": {
             "line": {
              "color": "white",
              "width": 0.5
             },
             "pattern": {
              "fillmode": "overlay",
              "size": 10,
              "solidity": 0.2
             }
            },
            "type": "barpolar"
           }
          ],
          "carpet": [
           {
            "aaxis": {
             "endlinecolor": "#2a3f5f",
             "gridcolor": "#C8D4E3",
             "linecolor": "#C8D4E3",
             "minorgridcolor": "#C8D4E3",
             "startlinecolor": "#2a3f5f"
            },
            "baxis": {
             "endlinecolor": "#2a3f5f",
             "gridcolor": "#C8D4E3",
             "linecolor": "#C8D4E3",
             "minorgridcolor": "#C8D4E3",
             "startlinecolor": "#2a3f5f"
            },
            "type": "carpet"
           }
          ],
          "choropleth": [
           {
            "colorbar": {
             "outlinewidth": 0,
             "ticks": ""
            },
            "type": "choropleth"
           }
          ],
          "contour": [
           {
            "colorbar": {
             "outlinewidth": 0,
             "ticks": ""
            },
            "colorscale": [
             [
              0,
              "#0d0887"
             ],
             [
              0.1111111111111111,
              "#46039f"
             ],
             [
              0.2222222222222222,
              "#7201a8"
             ],
             [
              0.3333333333333333,
              "#9c179e"
             ],
             [
              0.4444444444444444,
              "#bd3786"
             ],
             [
              0.5555555555555556,
              "#d8576b"
             ],
             [
              0.6666666666666666,
              "#ed7953"
             ],
             [
              0.7777777777777778,
              "#fb9f3a"
             ],
             [
              0.8888888888888888,
              "#fdca26"
             ],
             [
              1,
              "#f0f921"
             ]
            ],
            "type": "contour"
           }
          ],
          "contourcarpet": [
           {
            "colorbar": {
             "outlinewidth": 0,
             "ticks": ""
            },
            "type": "contourcarpet"
           }
          ],
          "heatmap": [
           {
            "colorbar": {
             "outlinewidth": 0,
             "ticks": ""
            },
            "colorscale": [
             [
              0,
              "#0d0887"
             ],
             [
              0.1111111111111111,
              "#46039f"
             ],
             [
              0.2222222222222222,
              "#7201a8"
             ],
             [
              0.3333333333333333,
              "#9c179e"
             ],
             [
              0.4444444444444444,
              "#bd3786"
             ],
             [
              0.5555555555555556,
              "#d8576b"
             ],
             [
              0.6666666666666666,
              "#ed7953"
             ],
             [
              0.7777777777777778,
              "#fb9f3a"
             ],
             [
              0.8888888888888888,
              "#fdca26"
             ],
             [
              1,
              "#f0f921"
             ]
            ],
            "type": "heatmap"
           }
          ],
          "histogram": [
           {
            "marker": {
             "pattern": {
              "fillmode": "overlay",
              "size": 10,
              "solidity": 0.2
             }
            },
            "type": "histogram"
           }
          ],
          "histogram2d": [
           {
            "colorbar": {
             "outlinewidth": 0,
             "ticks": ""
            },
            "colorscale": [
             [
              0,
              "#0d0887"
             ],
             [
              0.1111111111111111,
              "#46039f"
             ],
             [
              0.2222222222222222,
              "#7201a8"
             ],
             [
              0.3333333333333333,
              "#9c179e"
             ],
             [
              0.4444444444444444,
              "#bd3786"
             ],
             [
              0.5555555555555556,
              "#d8576b"
             ],
             [
              0.6666666666666666,
              "#ed7953"
             ],
             [
              0.7777777777777778,
              "#fb9f3a"
             ],
             [
              0.8888888888888888,
              "#fdca26"
             ],
             [
              1,
              "#f0f921"
             ]
            ],
            "type": "histogram2d"
           }
          ],
          "histogram2dcontour": [
           {
            "colorbar": {
             "outlinewidth": 0,
             "ticks": ""
            },
            "colorscale": [
             [
              0,
              "#0d0887"
             ],
             [
              0.1111111111111111,
              "#46039f"
             ],
             [
              0.2222222222222222,
              "#7201a8"
             ],
             [
              0.3333333333333333,
              "#9c179e"
             ],
             [
              0.4444444444444444,
              "#bd3786"
             ],
             [
              0.5555555555555556,
              "#d8576b"
             ],
             [
              0.6666666666666666,
              "#ed7953"
             ],
             [
              0.7777777777777778,
              "#fb9f3a"
             ],
             [
              0.8888888888888888,
              "#fdca26"
             ],
             [
              1,
              "#f0f921"
             ]
            ],
            "type": "histogram2dcontour"
           }
          ],
          "mesh3d": [
           {
            "colorbar": {
             "outlinewidth": 0,
             "ticks": ""
            },
            "type": "mesh3d"
           }
          ],
          "parcoords": [
           {
            "line": {
             "colorbar": {
              "outlinewidth": 0,
              "ticks": ""
             }
            },
            "type": "parcoords"
           }
          ],
          "pie": [
           {
            "automargin": true,
            "type": "pie"
           }
          ],
          "scatter": [
           {
            "fillpattern": {
             "fillmode": "overlay",
             "size": 10,
             "solidity": 0.2
            },
            "type": "scatter"
           }
          ],
          "scatter3d": [
           {
            "line": {
             "colorbar": {
              "outlinewidth": 0,
              "ticks": ""
             }
            },
            "marker": {
             "colorbar": {
              "outlinewidth": 0,
              "ticks": ""
             }
            },
            "type": "scatter3d"
           }
          ],
          "scattercarpet": [
           {
            "marker": {
             "colorbar": {
              "outlinewidth": 0,
              "ticks": ""
             }
            },
            "type": "scattercarpet"
           }
          ],
          "scattergeo": [
           {
            "marker": {
             "colorbar": {
              "outlinewidth": 0,
              "ticks": ""
             }
            },
            "type": "scattergeo"
           }
          ],
          "scattergl": [
           {
            "marker": {
             "colorbar": {
              "outlinewidth": 0,
              "ticks": ""
             }
            },
            "type": "scattergl"
           }
          ],
          "scattermap": [
           {
            "marker": {
             "colorbar": {
              "outlinewidth": 0,
              "ticks": ""
             }
            },
            "type": "scattermap"
           }
          ],
          "scattermapbox": [
           {
            "marker": {
             "colorbar": {
              "outlinewidth": 0,
              "ticks": ""
             }
            },
            "type": "scattermapbox"
           }
          ],
          "scatterpolar": [
           {
            "marker": {
             "colorbar": {
              "outlinewidth": 0,
              "ticks": ""
             }
            },
            "type": "scatterpolar"
           }
          ],
          "scatterpolargl": [
           {
            "marker": {
             "colorbar": {
              "outlinewidth": 0,
              "ticks": ""
             }
            },
            "type": "scatterpolargl"
           }
          ],
          "scatterternary": [
           {
            "marker": {
             "colorbar": {
              "outlinewidth": 0,
              "ticks": ""
             }
            },
            "type": "scatterternary"
           }
          ],
          "surface": [
           {
            "colorbar": {
             "outlinewidth": 0,
             "ticks": ""
            },
            "colorscale": [
             [
              0,
              "#0d0887"
             ],
             [
              0.1111111111111111,
              "#46039f"
             ],
             [
              0.2222222222222222,
              "#7201a8"
             ],
             [
              0.3333333333333333,
              "#9c179e"
             ],
             [
              0.4444444444444444,
              "#bd3786"
             ],
             [
              0.5555555555555556,
              "#d8576b"
             ],
             [
              0.6666666666666666,
              "#ed7953"
             ],
             [
              0.7777777777777778,
              "#fb9f3a"
             ],
             [
              0.8888888888888888,
              "#fdca26"
             ],
             [
              1,
              "#f0f921"
             ]
            ],
            "type": "surface"
           }
          ],
          "table": [
           {
            "cells": {
             "fill": {
              "color": "#EBF0F8"
             },
             "line": {
              "color": "white"
             }
            },
            "header": {
             "fill": {
              "color": "#C8D4E3"
             },
             "line": {
              "color": "white"
             }
            },
            "type": "table"
           }
          ]
         },
         "layout": {
          "annotationdefaults": {
           "arrowcolor": "#2a3f5f",
           "arrowhead": 0,
           "arrowwidth": 1
          },
          "autotypenumbers": "strict",
          "coloraxis": {
           "colorbar": {
            "outlinewidth": 0,
            "ticks": ""
           }
          },
          "colorscale": {
           "diverging": [
            [
             0,
             "#8e0152"
            ],
            [
             0.1,
             "#c51b7d"
            ],
            [
             0.2,
             "#de77ae"
            ],
            [
             0.3,
             "#f1b6da"
            ],
            [
             0.4,
             "#fde0ef"
            ],
            [
             0.5,
             "#f7f7f7"
            ],
            [
             0.6,
             "#e6f5d0"
            ],
            [
             0.7,
             "#b8e186"
            ],
            [
             0.8,
             "#7fbc41"
            ],
            [
             0.9,
             "#4d9221"
            ],
            [
             1,
             "#276419"
            ]
           ],
           "sequential": [
            [
             0,
             "#0d0887"
            ],
            [
             0.1111111111111111,
             "#46039f"
            ],
            [
             0.2222222222222222,
             "#7201a8"
            ],
            [
             0.3333333333333333,
             "#9c179e"
            ],
            [
             0.4444444444444444,
             "#bd3786"
            ],
            [
             0.5555555555555556,
             "#d8576b"
            ],
            [
             0.6666666666666666,
             "#ed7953"
            ],
            [
             0.7777777777777778,
             "#fb9f3a"
            ],
            [
             0.8888888888888888,
             "#fdca26"
            ],
            [
             1,
             "#f0f921"
            ]
           ],
           "sequentialminus": [
            [
             0,
             "#0d0887"
            ],
            [
             0.1111111111111111,
             "#46039f"
            ],
            [
             0.2222222222222222,
             "#7201a8"
            ],
            [
             0.3333333333333333,
             "#9c179e"
            ],
            [
             0.4444444444444444,
             "#bd3786"
            ],
            [
             0.5555555555555556,
             "#d8576b"
            ],
            [
             0.6666666666666666,
             "#ed7953"
            ],
            [
             0.7777777777777778,
             "#fb9f3a"
            ],
            [
             0.8888888888888888,
             "#fdca26"
            ],
            [
             1,
             "#f0f921"
            ]
           ]
          },
          "colorway": [
           "#636efa",
           "#EF553B",
           "#00cc96",
           "#ab63fa",
           "#FFA15A",
           "#19d3f3",
           "#FF6692",
           "#B6E880",
           "#FF97FF",
           "#FECB52"
          ],
          "font": {
           "color": "#2a3f5f"
          },
          "geo": {
           "bgcolor": "white",
           "lakecolor": "white",
           "landcolor": "white",
           "showlakes": true,
           "showland": true,
           "subunitcolor": "#C8D4E3"
          },
          "hoverlabel": {
           "align": "left"
          },
          "hovermode": "closest",
          "mapbox": {
           "style": "light"
          },
          "paper_bgcolor": "white",
          "plot_bgcolor": "white",
          "polar": {
           "angularaxis": {
            "gridcolor": "#EBF0F8",
            "linecolor": "#EBF0F8",
            "ticks": ""
           },
           "bgcolor": "white",
           "radialaxis": {
            "gridcolor": "#EBF0F8",
            "linecolor": "#EBF0F8",
            "ticks": ""
           }
          },
          "scene": {
           "xaxis": {
            "backgroundcolor": "white",
            "gridcolor": "#DFE8F3",
            "gridwidth": 2,
            "linecolor": "#EBF0F8",
            "showbackground": true,
            "ticks": "",
            "zerolinecolor": "#EBF0F8"
           },
           "yaxis": {
            "backgroundcolor": "white",
            "gridcolor": "#DFE8F3",
            "gridwidth": 2,
            "linecolor": "#EBF0F8",
            "showbackground": true,
            "ticks": "",
            "zerolinecolor": "#EBF0F8"
           },
           "zaxis": {
            "backgroundcolor": "white",
            "gridcolor": "#DFE8F3",
            "gridwidth": 2,
            "linecolor": "#EBF0F8",
            "showbackground": true,
            "ticks": "",
            "zerolinecolor": "#EBF0F8"
           }
          },
          "shapedefaults": {
           "line": {
            "color": "#2a3f5f"
           }
          },
          "ternary": {
           "aaxis": {
            "gridcolor": "#DFE8F3",
            "linecolor": "#A2B1C6",
            "ticks": ""
           },
           "baxis": {
            "gridcolor": "#DFE8F3",
            "linecolor": "#A2B1C6",
            "ticks": ""
           },
           "bgcolor": "white",
           "caxis": {
            "gridcolor": "#DFE8F3",
            "linecolor": "#A2B1C6",
            "ticks": ""
           }
          },
          "title": {
           "x": 0.05
          },
          "xaxis": {
           "automargin": true,
           "gridcolor": "#EBF0F8",
           "linecolor": "#EBF0F8",
           "ticks": "",
           "title": {
            "standoff": 15
           },
           "zerolinecolor": "#EBF0F8",
           "zerolinewidth": 2
          },
          "yaxis": {
           "automargin": true,
           "gridcolor": "#EBF0F8",
           "linecolor": "#EBF0F8",
           "ticks": "",
           "title": {
            "standoff": 15
           },
           "zerolinecolor": "#EBF0F8",
           "zerolinewidth": 2
          }
         }
        },
        "title": {
         "text": "<b>Matriz de Confusão - MLP</b>",
         "x": 0.5
        },
        "width": 550,
        "xaxis": {
         "anchor": "y",
         "constrain": "domain",
         "domain": [
          0,
          1
         ],
         "scaleanchor": "y",
         "title": {
          "text": "<b>Valor Predito</b>"
         }
        },
        "yaxis": {
         "anchor": "x",
         "autorange": "reversed",
         "constrain": "domain",
         "domain": [
          0,
          1
         ],
         "title": {
          "text": "<b>Valor Real</b>"
         }
        }
       }
      }
     },
     "metadata": {},
     "output_type": "display_data"
    }
   ],
   "source": [
    "# Visualização da Matriz de Confusão com Plotly\n",
    "fig_cm_mlp = px.imshow(\n",
    "    cm_mlp,\n",
    "    text_auto=True,\n",
    "    labels=dict(x=\"Valor Predito\", y=\"Valor Real\", color=\"Contagem\"),\n",
    "    x=labels,\n",
    "    y=labels,\n",
    "    color_continuous_scale='Greens'\n",
    ")\n",
    "\n",
    "fig_cm_mlp.update_layout(\n",
    "    title_text='<b>Matriz de Confusão - MLP</b>',\n",
    "    title_x=0.5,\n",
    "    width=550,\n",
    "    height=500,\n",
    "    template='plotly_white',\n",
    "    font=dict(family=\"Arial, sans-serif\", size=12, color=\"black\"),\n",
    "    xaxis_title=\"<b>Valor Predito</b>\",\n",
    "    yaxis_title=\"<b>Valor Real</b>\"\n",
    ")\n",
    "fig_cm_mlp.update_traces(textfont_size=16)\n",
    "fig_cm_mlp.show()"
   ]
  },
  {
   "cell_type": "markdown",
   "id": "1362e050",
   "metadata": {},
   "source": [
    "## Comparação Final dos Modelos"
   ]
  },
  {
   "cell_type": "code",
   "execution_count": null,
   "id": "f72cdc18",
   "metadata": {},
   "outputs": [
    {
     "name": "stdout",
     "output_type": "stream",
     "text": [
      "--- Tabela Final de Resultados ---\n",
      "        Modelo  Medida F1\n",
      "0  Naive Bayes        0.0\n",
      "1          MLP        0.0\n"
     ]
    }
   ],
   "source": [
    "final_results = {\n",
    "    'Modelo': ['Naive Bayes', 'MLP'],\n",
    "    'Medida F1': [f1_nb, f1_mlp]\n",
    "}\n",
    "results_df = pd.DataFrame(final_results)\n",
    "\n",
    "print(\"--- Tabela Final de Resultados ---\")\n",
    "print(results_df.round(4))"
   ]
  },
  {
   "cell_type": "markdown",
   "id": "5e74da8e",
   "metadata": {},
   "source": [
    "## Análise e Conclusão Final\n",
    "\n",
    "A avaliação dos modelos demonstrou que ambos foram incapazes de gerar um classificador funcional para o problema, resultando em uma Medida F1 de 0.0 para os dois.\n",
    "\n",
    "A causa para este desempenho foi o grande desbalanceamento de classes no dataset, que levou ambos os algoritmos a preverem invariavelmente a classe majoritária (\"Sem Downtime\").\n",
    "\n",
    "Percebi que seria possível usar técnicas como o SMOTE para mitigar o desbalanceamento e gerar um modelo funcional. Contudo, não segui com essa abordagem, pois notei que ela não estava nas etapas de pré-processamento do enunciado. Isso me levou a concluir que este resultado era, na verdade, o objetivo de aprendizado do trabalho: mostrar na prática o desafio de lidar com dados desbalanceados e a importância de uma métrica como a Medida F1, que expôs o problema claramente."
   ]
  }
 ],
 "metadata": {
  "kernelspec": {
   "display_name": "venv",
   "language": "python",
   "name": "python3"
  },
  "language_info": {
   "codemirror_mode": {
    "name": "ipython",
    "version": 3
   },
   "file_extension": ".py",
   "mimetype": "text/x-python",
   "name": "python",
   "nbconvert_exporter": "python",
   "pygments_lexer": "ipython3",
   "version": "3.13.4"
  }
 },
 "nbformat": 4,
 "nbformat_minor": 5
}
